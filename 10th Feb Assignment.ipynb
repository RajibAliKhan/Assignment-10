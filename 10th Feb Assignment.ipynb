{
 "cells": [
  {
   "cell_type": "code",
   "execution_count": null,
   "id": "9ca35f2b-0ba9-48ab-acb1-5ffc624b2820",
   "metadata": {},
   "outputs": [],
   "source": [
    "# Q1 answer :"
   ]
  },
  {
   "cell_type": "code",
   "execution_count": null,
   "id": "8050309e-19c8-4174-b07e-7361c02baea0",
   "metadata": {},
   "outputs": [],
   "source": [
    "with open() function is used to open a file.\n",
    "\n",
    "There are different modes are present for opening a file.\n",
    "Eg. \n",
    "  'r'       open for reading (default)\n",
    "  'w'       open for writing, truncating the file first\n",
    "  'x'       create a new file and open it for writing\n",
    "  'a'       open for writing, appending to the end of the file if it exists\n",
    "  'b'       binary mode\n",
    "  't'       text mode (default)\n",
    "  '+'       open a disk file for updating (reading and writing)\n",
    "  'U'       universal newline mode (deprecated)"
   ]
  },
  {
   "cell_type": "code",
   "execution_count": null,
   "id": "848b6b7b-ca9e-4b1d-b1cd-cf9e57572c52",
   "metadata": {},
   "outputs": [],
   "source": [
    "# Q2 answer :"
   ]
  },
  {
   "cell_type": "code",
   "execution_count": null,
   "id": "69d1ecf8-e11a-4934-aea9-49fd63fe9897",
   "metadata": {},
   "outputs": [],
   "source": [
    "The close() function is used to close a file that has been opened using the open() function. \n",
    "\n",
    "It is important to close a file because that open file in writing mode has been completed.\n",
    "This helps to ensure that all data written to the file is saved and not.\n",
    "If a file is not closed properly, it may result in data corruption.\n",
    "It is important to close a file to ensure data integrity, prevent data corruption, data loss."
   ]
  },
  {
   "cell_type": "code",
   "execution_count": null,
   "id": "4ff9999b-4345-40a2-a114-9d5a28dea8b8",
   "metadata": {},
   "outputs": [],
   "source": [
    "# Q3 answer :"
   ]
  },
  {
   "cell_type": "code",
   "execution_count": 2,
   "id": "6d0450f1-f210-4b65-a105-c12f35f17ca3",
   "metadata": {},
   "outputs": [],
   "source": [
    "f = open('rajib.txt','w')\n",
    "f.write('I want to become a Data Scientist.')\n",
    "f.close()"
   ]
  },
  {
   "cell_type": "code",
   "execution_count": null,
   "id": "fa94f824-5258-4b65-94a1-c4df35ea28f0",
   "metadata": {},
   "outputs": [],
   "source": [
    "# Q4 answer :"
   ]
  },
  {
   "cell_type": "code",
   "execution_count": null,
   "id": "fdebff59-6f1c-426e-9e03-a9bcbd5f747e",
   "metadata": {},
   "outputs": [],
   "source": [
    "read() :\n",
    "This method is used to read the entire content of a file. \n",
    "It takes an argument which specifies the number of characters to read. \n",
    "If no argument is provided, it reads the entire file."
   ]
  },
  {
   "cell_type": "code",
   "execution_count": 4,
   "id": "83532d2e-7b57-49ba-be2e-e35f93faf4da",
   "metadata": {},
   "outputs": [
    {
     "name": "stdout",
     "output_type": "stream",
     "text": [
      "I want to become a Data Scientist.\n"
     ]
    }
   ],
   "source": [
    "with open('rajib.txt','r') as f :\n",
    "    data = f.read()\n",
    "    print(data)"
   ]
  },
  {
   "cell_type": "code",
   "execution_count": null,
   "id": "25975551-55be-4df5-b48f-e93ced7c06f6",
   "metadata": {},
   "outputs": [],
   "source": [
    "readline() : \n",
    "This method reads a single line from a file. \n",
    "It helps to read in line by line.\n",
    "It reads characters from the current position until it reaches the end of the line, denoted by a newline character (\\n), or until it reaches the end of the file."
   ]
  },
  {
   "cell_type": "code",
   "execution_count": 10,
   "id": "4430acfc-6066-4939-8c18-ce2caae1f4f6",
   "metadata": {},
   "outputs": [],
   "source": [
    "f = open('rajib.txt','a')\n",
    "f.write('My name is Rajib Ali Khan.')\n",
    "f.close()"
   ]
  },
  {
   "cell_type": "code",
   "execution_count": 11,
   "id": "e30e5f28-f599-4781-a739-19749bd5f803",
   "metadata": {},
   "outputs": [
    {
     "data": {
      "text/plain": [
       "'I want to become a Data Scientist.My name is Rajib Ali Khan\\nMy name is Rajib Ali Khan\\nMy name is Rajib Ali Khan.'"
      ]
     },
     "execution_count": 11,
     "metadata": {},
     "output_type": "execute_result"
    }
   ],
   "source": [
    "f = open('rajib.txt','r')\n",
    "f.read()"
   ]
  },
  {
   "cell_type": "code",
   "execution_count": 12,
   "id": "f32e84cf-d62d-4a83-9ea7-c8d93f8f8e54",
   "metadata": {},
   "outputs": [
    {
     "data": {
      "text/plain": [
       "''"
      ]
     },
     "execution_count": 12,
     "metadata": {},
     "output_type": "execute_result"
    }
   ],
   "source": [
    "f.readline()"
   ]
  },
  {
   "cell_type": "code",
   "execution_count": 13,
   "id": "6178bfce-0e90-4a8e-bf3e-7381f38e4e8d",
   "metadata": {},
   "outputs": [
    {
     "data": {
      "text/plain": [
       "0"
      ]
     },
     "execution_count": 13,
     "metadata": {},
     "output_type": "execute_result"
    }
   ],
   "source": [
    "f.seek(0)"
   ]
  },
  {
   "cell_type": "code",
   "execution_count": 14,
   "id": "7b77f64e-448d-4ffb-ba53-49c4c87ae1bf",
   "metadata": {},
   "outputs": [
    {
     "data": {
      "text/plain": [
       "'I want to become a Data Scientist.My name is Rajib Ali Khan\\n'"
      ]
     },
     "execution_count": 14,
     "metadata": {},
     "output_type": "execute_result"
    }
   ],
   "source": [
    "f.readline()"
   ]
  },
  {
   "cell_type": "code",
   "execution_count": null,
   "id": "a2f1bf14-268d-4719-b8ad-85e935b184a4",
   "metadata": {},
   "outputs": [],
   "source": [
    "readline() reads all the lines from the file and return as a string."
   ]
  },
  {
   "cell_type": "code",
   "execution_count": 15,
   "id": "63f7d155-0198-4319-8f92-d62f22409316",
   "metadata": {},
   "outputs": [
    {
     "data": {
      "text/plain": [
       "['My name is Rajib Ali Khan\\n', 'My name is Rajib Ali Khan.']"
      ]
     },
     "execution_count": 15,
     "metadata": {},
     "output_type": "execute_result"
    }
   ],
   "source": [
    "f.readlines()"
   ]
  },
  {
   "cell_type": "code",
   "execution_count": null,
   "id": "055e9b8d-88c3-46bf-8ef6-257400fa8b0a",
   "metadata": {},
   "outputs": [],
   "source": [
    "# Q5 answer :"
   ]
  },
  {
   "cell_type": "code",
   "execution_count": null,
   "id": "e9b37c16-258f-4598-8f3d-cf9547ce1e38",
   "metadata": {},
   "outputs": [],
   "source": [
    "The with statement is used in conjunction with the open() function that the file is automatically closed.\n",
    "Advantages :\n",
    "    1. Automatic file closure.\n",
    "    2. Clean and readable code.\n",
    "    3. Proper exception handling and efficient resource usage."
   ]
  },
  {
   "cell_type": "code",
   "execution_count": null,
   "id": "b42917a4-1099-4adf-8542-9af39521ba60",
   "metadata": {},
   "outputs": [],
   "source": [
    "# Q6 answer :"
   ]
  },
  {
   "cell_type": "code",
   "execution_count": null,
   "id": "4c6fdd51-eb4c-44ce-8929-4e410c8f23b5",
   "metadata": {},
   "outputs": [],
   "source": [
    "write(): \n",
    "This method is used to write a file. \n",
    "It takes a string as an argument and writes it to the file. \n",
    "If the file does not exist, it is created, and if it already exists, its content is overwritten."
   ]
  },
  {
   "cell_type": "code",
   "execution_count": 1,
   "id": "45fecc18-b1ef-4386-9c74-c0be81d0fbe8",
   "metadata": {},
   "outputs": [],
   "source": [
    "with open('data.txt','w') as f :\n",
    "    f.write('My name is Rajib Ali Khan.\\n')\n",
    "    f.write('I am 24 years old.')"
   ]
  },
  {
   "cell_type": "code",
   "execution_count": null,
   "id": "c14c7ae1-221e-4378-9df0-758d8c03628d",
   "metadata": {},
   "outputs": [],
   "source": [
    "writelines(): \n",
    "This method is used to write a list of strings or a sequence of lines to a file. \n",
    "Each item in the list represents a line in the file. \n",
    "The lines are not automatically terminated with a newline character."
   ]
  },
  {
   "cell_type": "code",
   "execution_count": 2,
   "id": "25ee2076-767b-4c7c-ac50-7822be69071e",
   "metadata": {},
   "outputs": [],
   "source": [
    "lines = ['My name is Rajib Ali Khan\\n', 'I am 24 years old.']\n",
    "with open('new_data.txt','w') as f :\n",
    "    f.writelines(lines)"
   ]
  }
 ],
 "metadata": {
  "kernelspec": {
   "display_name": "Python 3 (ipykernel)",
   "language": "python",
   "name": "python3"
  },
  "language_info": {
   "codemirror_mode": {
    "name": "ipython",
    "version": 3
   },
   "file_extension": ".py",
   "mimetype": "text/x-python",
   "name": "python",
   "nbconvert_exporter": "python",
   "pygments_lexer": "ipython3",
   "version": "3.10.8"
  }
 },
 "nbformat": 4,
 "nbformat_minor": 5
}
